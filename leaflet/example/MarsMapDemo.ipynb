{
 "cells": [
  {
   "cell_type": "markdown",
   "metadata": {},
   "source": [
    "# Mars Map"
   ]
  },
  {
   "cell_type": "code",
   "execution_count": 1,
   "metadata": {},
   "outputs": [
    {
     "data": {
      "application/vnd.jupyter.widget-view+json": {
       "model_id": "96908a88023d4095bf382e1c74c4f95a",
       "version_major": 2,
       "version_minor": 0
      },
      "text/plain": [
       "Map(basemap={'url': 'https://{s}.tile.openstreetmap.org/{z}/{x}/{y}.png', 'max_zoom': 19, 'attribution': 'Map …"
      ]
     },
     "metadata": {},
     "output_type": "display_data"
    }
   ],
   "source": [
    "from ipyleaflet import Map, WMSLayer, LayersControl, LayerGroup\n",
    "import json\n",
    "wmsLayer = WMSLayer(\n",
    "    url='https://planetarymaps.usgs.gov/cgi-bin/mapserv?map=/maps/mars/mars_simp_cyl.map',\n",
    "    layers='MOLA_THEMIS_blend',\n",
    "    name='MOLA THEMIS Blend (MDIM2.1)',\n",
    "    crs='EPSG4326'\n",
    ")\n",
    "\n",
    "mars_map = Map(layers=(wmsLayer, ), center=(0, 0), zoom=1, crs='EPSG4326')\n",
    "mars_map.add_control(LayersControl())\n",
    "mars_map"
   ]
  },
  {
   "cell_type": "code",
   "execution_count": 2,
   "metadata": {},
   "outputs": [],
   "source": [
    "map_layers = {\n",
    "    'base': [], \n",
    "    'overlays': []\n",
    "}\n",
    "\n",
    "def parse_json(json):\n",
    "    targets = json['targets']\n",
    "    for i, target in enumerate(targets):\n",
    "        current_target = targets[i]\n",
    "        if current_target['name'].lower() == 'mars':\n",
    "            json_layers = current_target['webmap']\n",
    "            for j, layers in enumerate(json_layers):\n",
    "                current_layer = json_layers[j]\n",
    "                if current_layer['type'] == 'WMS':\n",
    "                    if current_layer['transparent'] == 'false':\n",
    "                        map_layers['base'].append(current_layer)\n",
    "                    else:\n",
    "                        map_layers['overlays'].append(current_layer)\n",
    "                        "
   ]
  },
  {
   "cell_type": "code",
   "execution_count": 3,
   "metadata": {
    "scrolled": true
   },
   "outputs": [],
   "source": [
    "json_file = '/Users/KaitlynLee/School/CS476/CartoCosmos/leaflet/example/geoServerLayers.json'\n",
    "with open(json_file, 'r') as fp:\n",
    "    json_dict = json.load(fp)\n",
    "parse_json(json_dict)\n"
   ]
  },
  {
   "cell_type": "code",
   "execution_count": 6,
   "metadata": {},
   "outputs": [
    {
     "data": {
      "application/vnd.jupyter.widget-view+json": {
       "model_id": "b1b9ca29f6a34494a75ce6781b07c118",
       "version_major": 2,
       "version_minor": 0
      },
      "text/plain": [
       "Map(basemap={'url': 'https://{s}.tile.openstreetmap.org/{z}/{x}/{y}.png', 'max_zoom': 19, 'attribution': 'Map …"
      ]
     },
     "metadata": {},
     "output_type": "display_data"
    }
   ],
   "source": [
    "base_layers = []\n",
    "for layer in map_layers['base']:\n",
    "    if layer['projection'] == 'cylindrical':\n",
    "        wms_layer = WMSLayer(\n",
    "            url='https://planetarymaps.usgs.gov/cgi-bin/mapserv?map=' + layer['map'],\n",
    "            layers= layer['layer'],\n",
    "            name=layer['displayname'],\n",
    "            crs='EPSG4326',\n",
    "            base=True\n",
    "        )\n",
    "        base_layers.append(wms_layer)\n",
    "    \n",
    "mars_map = Map(layers=tuple(base_layers), center=(0, 0), zoom=1, crs='EPSG4326')\n",
    "mars_map.add_control(LayersControl())\n",
    "mars_map"
   ]
  },
  {
   "cell_type": "code",
   "execution_count": null,
   "metadata": {},
   "outputs": [],
   "source": []
  }
 ],
 "metadata": {
  "kernelspec": {
   "display_name": "Python 3",
   "language": "python",
   "name": "python3"
  },
  "language_info": {
   "codemirror_mode": {
    "name": "ipython",
    "version": 3
   },
   "file_extension": ".py",
   "mimetype": "text/x-python",
   "name": "python",
   "nbconvert_exporter": "python",
   "pygments_lexer": "ipython3",
   "version": "3.7.5"
  }
 },
 "nbformat": 4,
 "nbformat_minor": 2
}
